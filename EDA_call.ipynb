{
 "cells": [
  {
   "cell_type": "code",
   "execution_count": 68,
   "metadata": {},
   "outputs": [],
   "source": [
    "import pandas as pd\n",
    "import matplotlib.pyplot as plt\n",
    "import seaborn as sns\n",
    "sns.set()"
   ]
  },
  {
   "cell_type": "code",
   "execution_count": 85,
   "metadata": {},
   "outputs": [],
   "source": [
    "# reading the csv archive and saivng it into df name\n",
    "df= pd.read_csv(r\"E:\\___DATASCIENCE\\___Data Science_henry\\M5\\M5\\Proyecto Integrador\\1 Call Center\\Call_Center_1999_DataSet.csv\", sep=\";\", low_memory=False)"
   ]
  },
  {
   "cell_type": "code",
   "execution_count": 379,
   "metadata": {},
   "outputs": [
    {
     "data": {
      "text/html": [
       "<div>\n",
       "<style scoped>\n",
       "    .dataframe tbody tr th:only-of-type {\n",
       "        vertical-align: middle;\n",
       "    }\n",
       "\n",
       "    .dataframe tbody tr th {\n",
       "        vertical-align: top;\n",
       "    }\n",
       "\n",
       "    .dataframe thead th {\n",
       "        text-align: right;\n",
       "    }\n",
       "</style>\n",
       "<table border=\"1\" class=\"dataframe\">\n",
       "  <thead>\n",
       "    <tr style=\"text-align: right;\">\n",
       "      <th></th>\n",
       "      <th>vru.line</th>\n",
       "      <th>call_id</th>\n",
       "      <th>customer_id</th>\n",
       "      <th>priority</th>\n",
       "      <th>type</th>\n",
       "      <th>date</th>\n",
       "      <th>vru_entry</th>\n",
       "      <th>vru_exit</th>\n",
       "      <th>vru_time</th>\n",
       "      <th>q_start</th>\n",
       "      <th>...</th>\n",
       "      <th>q_time</th>\n",
       "      <th>outcome</th>\n",
       "      <th>ser_start</th>\n",
       "      <th>ser_exit</th>\n",
       "      <th>ser_time</th>\n",
       "      <th>server</th>\n",
       "      <th>startdate</th>\n",
       "      <th>ID</th>\n",
       "      <th>ser_start_hours</th>\n",
       "      <th>has_number_after_colon</th>\n",
       "    </tr>\n",
       "  </thead>\n",
       "  <tbody>\n",
       "    <tr>\n",
       "      <th>444446</th>\n",
       "      <td>AA0216</td>\n",
       "      <td>17214</td>\n",
       "      <td>0</td>\n",
       "      <td>0</td>\n",
       "      <td>IN</td>\n",
       "      <td>1999-12-31</td>\n",
       "      <td>18:30:19</td>\n",
       "      <td>18:30:54</td>\n",
       "      <td>35</td>\n",
       "      <td>0:00:00</td>\n",
       "      <td>...</td>\n",
       "      <td>0</td>\n",
       "      <td>HANG</td>\n",
       "      <td>0:00:00</td>\n",
       "      <td>0:00:00</td>\n",
       "      <td>0</td>\n",
       "      <td>NO_SERVER</td>\n",
       "      <td>334</td>\n",
       "      <td>17214AA0216</td>\n",
       "      <td>0</td>\n",
       "      <td>True</td>\n",
       "    </tr>\n",
       "    <tr>\n",
       "      <th>444447</th>\n",
       "      <td>AA0216</td>\n",
       "      <td>17215</td>\n",
       "      <td>0</td>\n",
       "      <td>0</td>\n",
       "      <td>IN</td>\n",
       "      <td>1999-12-31</td>\n",
       "      <td>22:23:35</td>\n",
       "      <td>22:23:45</td>\n",
       "      <td>10</td>\n",
       "      <td>0:00:00</td>\n",
       "      <td>...</td>\n",
       "      <td>0</td>\n",
       "      <td>HANG</td>\n",
       "      <td>0:00:00</td>\n",
       "      <td>0:00:00</td>\n",
       "      <td>0</td>\n",
       "      <td>NO_SERVER</td>\n",
       "      <td>334</td>\n",
       "      <td>17215AA0216</td>\n",
       "      <td>0</td>\n",
       "      <td>True</td>\n",
       "    </tr>\n",
       "  </tbody>\n",
       "</table>\n",
       "<p>2 rows × 21 columns</p>\n",
       "</div>"
      ],
      "text/plain": [
       "       vru.line  call_id customer_id  priority type       date vru_entry  \\\n",
       "444446   AA0216    17214           0         0   IN 1999-12-31  18:30:19   \n",
       "444447   AA0216    17215           0         0   IN 1999-12-31  22:23:35   \n",
       "\n",
       "        vru_exit  vru_time  q_start  ... q_time  outcome ser_start ser_exit  \\\n",
       "444446  18:30:54        35  0:00:00  ...      0     HANG   0:00:00  0:00:00   \n",
       "444447  22:23:45        10  0:00:00  ...      0     HANG   0:00:00  0:00:00   \n",
       "\n",
       "       ser_time     server startdate           ID ser_start_hours  \\\n",
       "444446        0  NO_SERVER       334  17214AA0216               0   \n",
       "444447        0  NO_SERVER       334  17215AA0216               0   \n",
       "\n",
       "        has_number_after_colon  \n",
       "444446                    True  \n",
       "444447                    True  \n",
       "\n",
       "[2 rows x 21 columns]"
      ]
     },
     "execution_count": 379,
     "metadata": {},
     "output_type": "execute_result"
    }
   ],
   "source": [
    "df.tail(2)"
   ]
  },
  {
   "attachments": {},
   "cell_type": "markdown",
   "metadata": {},
   "source": [
    "##### 1° Cada llamada telefónica entrante es ruteada a través del VRU. Hay 6 VRUs etiquetados desde  AA01 a AA06. Cada VRU tiene varias líneas etiquetadas de 1 a 16. Hay un total de 65 líneas. Cada llamada es asignada a un número de VRU y a un número de línea."
   ]
  },
  {
   "cell_type": "code",
   "execution_count": 14,
   "metadata": {},
   "outputs": [
    {
     "data": {
      "text/plain": [
       "array(['AA0101', 'AA0102', 'AA0103', 'AA0104', 'AA0105', 'AA0106',\n",
       "       'AA0107', 'AA0108', 'AA0109', 'AA0110', 'AA0111', 'AA0112',\n",
       "       'AA0115', 'AA0116', 'AA0201', 'AA0202', 'AA0203', 'AA0204',\n",
       "       'AA0205', 'AA0206', 'AA0209', 'AA0210', 'AA0213', 'AA0214',\n",
       "       'AA0215', 'AA0216', 'AA0113', 'AA0207', 'AA0208', 'AA0114'],\n",
       "      dtype=object)"
      ]
     },
     "execution_count": 14,
     "metadata": {},
     "output_type": "execute_result"
    }
   ],
   "source": [
    "# se obserba que el dataset tiene una codificación distinta\n",
    "df['vru.line'].unique()"
   ]
  },
  {
   "attachments": {},
   "cell_type": "markdown",
   "metadata": {},
   "source": [
    "##### 2° A cada llamada telefónica entrante se le asigna un “call id”. Aunque son diferentes, los identificadores no son necesariamente consecutivos por estar asignado a diferentes VRUs."
   ]
  },
  {
   "cell_type": "code",
   "execution_count": 15,
   "metadata": {},
   "outputs": [
    {
     "data": {
      "text/plain": [
       "54471"
      ]
     },
     "execution_count": 15,
     "metadata": {},
     "output_type": "execute_result"
    }
   ],
   "source": [
    "len(df[\"call_id\"].unique())"
   ]
  },
  {
   "attachments": {},
   "cell_type": "markdown",
   "metadata": {},
   "source": [
    "##### 3° Es la identificación del cliente. Es única por cliente; si el ID es cero, es porque el sistema no pudo identificar a la persona que realiza la llamada (por ejemplo para el caso de los prospectos no se identifican)."
   ]
  },
  {
   "cell_type": "code",
   "execution_count": 16,
   "metadata": {},
   "outputs": [
    {
     "data": {
      "text/plain": [
       "12910"
      ]
     },
     "execution_count": 16,
     "metadata": {},
     "output_type": "execute_result"
    }
   ],
   "source": [
    "# we asume that there are 12910 clients, might be more.\n",
    "len(df[\"customer_id\"].unique())"
   ]
  },
  {
   "attachments": {},
   "cell_type": "markdown",
   "metadata": {},
   "source": [
    "##### 4° Hay dos tipos de prioridades: (Alta-)prioridad y Regular:\n",
    "• 0 y 1 indican clientes no identificados o clientes regulares (los detallaremos más adelante)\n",
    "• 2 indica clientes de Alta Prioridad.\n",
    "• Los clientes son servidos en orden según el “Tiempo en Cola” (\"Time in Queue\").\n",
    "• A los clientes de Alta Prioridad se les asigna un tiempo de espera de 1.5 minutos al comienzo de su llamada (esto les permite avanzar en la posición de la cola de llamadas). También están exentos de pagar un fee mensual, que los clientes regulares deben pagar.\n",
    "• No se ha informado a los clientes sobre la existencia de prioridades.\n",
    "• Hasta Agosto de 1996, todos los clientes tenían la misma prioridad: 0. Las prioridades 1 y 2 fueron incorporadas el 1° de Agosto de 1996. Todavía hay clientes con prioridad 0, pero son tratados como si fueran de prioridad 1. (se definió que los clientes con prioridad 0 corresponden a clientes de prioridad 1 que no realizaron Upgrade a Alta Prioridad (prioridad 2).\n",
    "\n",
    " \n",
    "• Debido a un error en el sistema, el cliente I.D. no fue registrado para aquellos que no esperaron en la cola, Por lo tanto, su prioridad es 0.\n"
   ]
  },
  {
   "cell_type": "code",
   "execution_count": 21,
   "metadata": {},
   "outputs": [
    {
     "data": {
      "text/plain": [
       "array([2, 0, 1], dtype=int64)"
      ]
     },
     "execution_count": 21,
     "metadata": {},
     "output_type": "execute_result"
    }
   ],
   "source": [
    "df[\"priority\"].unique()"
   ]
  },
  {
   "cell_type": "code",
   "execution_count": 70,
   "metadata": {},
   "outputs": [],
   "source": [
    "# since the data set contains only 1999 call entries, we can confidently replace 0's with 1's \n",
    "df['priority'] = df['priority'].replace(0, 1)"
   ]
  },
  {
   "attachments": {},
   "cell_type": "markdown",
   "metadata": {},
   "source": [
    "##### 5° Hay 6 tipos diferentes de servicio:\n",
    "+ PS - Actividad Regular\n",
    "+ PE - Actividad Regular en inglés\n",
    "+ IN - Actividad / Consulta por internet\n",
    "+ NE - Actividad por Acciones (stock exchange)\n",
    "+ NW - Cliente potencial (prospecto) solicitando información\n",
    "+ TT – clientes que dejan un mensaje pidiendo al banco que le devuelvan su llamado pero que cuando el sistema automático devuelve el llamado, el agente pasó a estado “ocupado”, dejando al cliente en espera en la cola.\n"
   ]
  },
  {
   "cell_type": "code",
   "execution_count": 18,
   "metadata": {},
   "outputs": [
    {
     "data": {
      "text/plain": [
       "array(['PS', 'NW', 'PE', 'TT', 'IN', 'NE', 'AA', ' TT'], dtype=object)"
      ]
     },
     "execution_count": 18,
     "metadata": {},
     "output_type": "execute_result"
    }
   ],
   "source": [
    "df[\"type\"].unique()"
   ]
  },
  {
   "cell_type": "code",
   "execution_count": 380,
   "metadata": {},
   "outputs": [
    {
     "data": {
      "text/plain": [
       "302522"
      ]
     },
     "execution_count": 380,
     "metadata": {},
     "output_type": "execute_result"
    }
   ],
   "source": [
    "df[df[\"type\"]==\"PS\"]['type'].count()"
   ]
  },
  {
   "attachments": {},
   "cell_type": "markdown",
   "metadata": {},
   "source": [
    "##### 6° año-mes-día"
   ]
  },
  {
   "cell_type": "code",
   "execution_count": 108,
   "metadata": {},
   "outputs": [],
   "source": [
    "# Convert the 'date' column to datetime\n",
    "df['date'] = pd.to_datetime(df['date'])"
   ]
  },
  {
   "cell_type": "code",
   "execution_count": 24,
   "metadata": {},
   "outputs": [
    {
     "data": {
      "text/plain": [
       "0    1999-01-01\n",
       "1    1999-01-01\n",
       "2    1999-01-01\n",
       "3    1999-01-01\n",
       "4    1999-01-01\n",
       "Name: date, dtype: object"
      ]
     },
     "execution_count": 24,
     "metadata": {},
     "output_type": "execute_result"
    }
   ],
   "source": [
    "# se obserba que es un string\n",
    "df[\"date\"].head(5)"
   ]
  },
  {
   "attachments": {},
   "cell_type": "markdown",
   "metadata": {},
   "source": [
    "##### 7° Hora en que la llamada telefónica ingresa al call center. Más específicamente, cada cliente que llama debe identificarse primero lo que se realiza proporcionando a la VRU la ID del cliente. Por lo tanto, esta es la hora en que la llamada ingresa a la VRU."
   ]
  },
  {
   "cell_type": "code",
   "execution_count": 26,
   "metadata": {},
   "outputs": [
    {
     "data": {
      "text/plain": [
       "0    0:00:31\n",
       "1    0:34:12\n",
       "2    6:55:20\n",
       "Name: vru_entry, dtype: object"
      ]
     },
     "execution_count": 26,
     "metadata": {},
     "output_type": "execute_result"
    }
   ],
   "source": [
    "# se obserba que es un string\n",
    "df[\"vru_entry\"].head(3)"
   ]
  },
  {
   "attachments": {},
   "cell_type": "markdown",
   "metadata": {},
   "source": [
    "##### 8° Hora de salida de la VRU: \n",
    "1.\tA la cola\n",
    "2.\tO directamente para recibir el servicio.\n",
    "3.\tO para dejar el Sistema (abandono).\n"
   ]
  },
  {
   "cell_type": "code",
   "execution_count": 29,
   "metadata": {},
   "outputs": [
    {
     "data": {
      "text/plain": [
       "0    0:00:36\n",
       "1    0:34:23\n",
       "2    6:55:26\n",
       "3    7:41:26\n",
       "4    8:03:24\n",
       "Name: vru_exit, dtype: object"
      ]
     },
     "execution_count": 29,
     "metadata": {},
     "output_type": "execute_result"
    }
   ],
   "source": [
    "# se obserba que es un string\n",
    "df[\"vru_exit\"].head()"
   ]
  },
  {
   "cell_type": "code",
   "execution_count": 25,
   "metadata": {},
   "outputs": [
    {
     "data": {
      "text/plain": [
       "'9:59:59'"
      ]
     },
     "execution_count": 25,
     "metadata": {},
     "output_type": "execute_result"
    }
   ],
   "source": [
    "df[\"vru_exit\"].max()"
   ]
  },
  {
   "cell_type": "markdown",
   "metadata": {},
   "source": [
    "### 9° vru_time - 1 a 3 dígitos\n",
    "Tiempo (en segundos) de espera en la VRU (calculada como vru_time= exit_time – entry_time) .\n"
   ]
  },
  {
   "cell_type": "code",
   "execution_count": 35,
   "metadata": {},
   "outputs": [
    {
     "data": {
      "text/plain": [
       "4832"
      ]
     },
     "execution_count": 35,
     "metadata": {},
     "output_type": "execute_result"
    }
   ],
   "source": [
    "# 4832 segundos son aproximadamante una hora y media (1 hr 30 min)\n",
    "df[\"vru_time\"].max()"
   ]
  },
  {
   "cell_type": "code",
   "execution_count": 19,
   "metadata": {},
   "outputs": [
    {
     "name": "stdout",
     "output_type": "stream",
     "text": [
      "Average: 10.29 seconds\n"
     ]
    }
   ],
   "source": [
    "# the average time in vru is: 10,29 seconds \n",
    "sum_vru_time = df['vru_time'].sum()\n",
    "num_rows = len(df)\n",
    "column_average = sum_vru_time / num_rows\n",
    "print(\"Average: \"+ str(round(column_average,2))+\" seconds\")"
   ]
  },
  {
   "attachments": {},
   "cell_type": "markdown",
   "metadata": {},
   "source": [
    "##### 10° q_start. Hora en la que se une a la cola. (la llamada queda “en espera”). Este valor es 00:00:00, para clientes que llegan a ponerse en la cola (abandonan cuando están en la VRU)."
   ]
  },
  {
   "cell_type": "code",
   "execution_count": 7,
   "metadata": {},
   "outputs": [
    {
     "data": {
      "text/plain": [
       "count      444448\n",
       "unique      62831\n",
       "top       0:00:00\n",
       "freq       112589\n",
       "Name: q_start, dtype: object"
      ]
     },
     "execution_count": 7,
     "metadata": {},
     "output_type": "execute_result"
    }
   ],
   "source": [
    "df[\"q_start\"].describe()"
   ]
  },
  {
   "attachments": {},
   "cell_type": "markdown",
   "metadata": {},
   "source": [
    "##### 11° q_exit. Tiempo (en segundos) en salir de la cola: ya sea porque recibe el servicio o por qué abandona el llamado."
   ]
  },
  {
   "cell_type": "code",
   "execution_count": 37,
   "metadata": {},
   "outputs": [
    {
     "data": {
      "text/plain": [
       "count      444448\n",
       "unique      62893\n",
       "top       0:00:00\n",
       "freq       112588\n",
       "Name: q_exit, dtype: object"
      ]
     },
     "execution_count": 37,
     "metadata": {},
     "output_type": "execute_result"
    }
   ],
   "source": [
    "df[\"q_exit\"].describe()"
   ]
  },
  {
   "attachments": {},
   "cell_type": "markdown",
   "metadata": {},
   "source": [
    "### 12° q_time. Tiempo de espera en la cola (calculado por q_time = q_exit – q_start)"
   ]
  },
  {
   "cell_type": "code",
   "execution_count": 7,
   "metadata": {},
   "outputs": [
    {
     "data": {
      "text/plain": [
       "28693"
      ]
     },
     "execution_count": 7,
     "metadata": {},
     "output_type": "execute_result"
    }
   ],
   "source": [
    "# 28693 segundos son proximadamente 7 horas, \n",
    "df[\"q_time\"].max()"
   ]
  },
  {
   "cell_type": "code",
   "execution_count": 13,
   "metadata": {},
   "outputs": [
    {
     "name": "stdout",
     "output_type": "stream",
     "text": [
      "Average: 59.0 seconds\n"
     ]
    }
   ],
   "source": [
    "# the average time in qeue is: 59 seconds \n",
    "sum_q_time = df['q_time'].sum()\n",
    "num_rows = len(df)\n",
    "column_average = sum_q_time / num_rows\n",
    "print(\"Average: \"+ str(round(column_average,2))+\" seconds\")"
   ]
  },
  {
   "attachments": {},
   "cell_type": "markdown",
   "metadata": {},
   "source": [
    "##### 13° Outcome - 4,5 o 7 digitos\n",
    "Hay tres posibles salidas por cada llamada:\n",
    "1. AGENT: se dio servicio\n",
    "2. HANG: se cortó la llamada y no se dió servicio\n",
    "3. PHANTOM: una llamada en la que virtualmente se ignora lo que sucedió(afortunadamente son pocas llamadas en esta situación).\n"
   ]
  },
  {
   "cell_type": "code",
   "execution_count": 3,
   "metadata": {},
   "outputs": [
    {
     "data": {
      "text/plain": [
       "array(['HANG', 'AGENT', 'PHANTOM'], dtype=object)"
      ]
     },
     "execution_count": 3,
     "metadata": {},
     "output_type": "execute_result"
    }
   ],
   "source": [
    "df[\"outcome\"].unique()\n"
   ]
  },
  {
   "cell_type": "code",
   "execution_count": 18,
   "metadata": {},
   "outputs": [
    {
     "name": "stdout",
     "output_type": "stream",
     "text": [
      "the amount of times the outcome is a hang: 87706 times.\n",
      "the amount of times the outcome is a answered by an agent: 353143 times.\n",
      "the amount of times the outcome is a virtual ghosting: 3599 times.\n",
      "df's shape = 444448\n"
     ]
    }
   ],
   "source": [
    "hang = df[df[\"outcome\"]==\"HANG\"][\"outcome\"].count()\n",
    "agent = df[df[\"outcome\"]==\"AGENT\"][\"outcome\"].count()\n",
    "phantom = df[df[\"outcome\"]==\"PHANTOM\"][\"outcome\"].count()\n",
    "print (\"the amount of times the outcome is a hang: \"+ str(hang)+ \" times.\" )\n",
    "print (\"the amount of times the outcome are answered by an agent: \"+ str(agent)+ \" times.\" )\n",
    "print (\"the amount of times the outcome is a virtual ghosting: \"+ str(phantom)+ \" times.\" )\n",
    "print( \"df's shape = \"+ str(hang+agent+phantom))"
   ]
  },
  {
   "cell_type": "markdown",
   "metadata": {},
   "source": [
    "##### 14° ser_start - 6 digitos\n",
    "Hora de comienzo del servicio por un agente.\n"
   ]
  },
  {
   "cell_type": "code",
   "execution_count": 6,
   "metadata": {},
   "outputs": [
    {
     "data": {
      "text/plain": [
       "'9:59:59'"
      ]
     },
     "execution_count": 6,
     "metadata": {},
     "output_type": "execute_result"
    }
   ],
   "source": [
    "df[\"ser_start\"].max()"
   ]
  },
  {
   "cell_type": "markdown",
   "metadata": {},
   "source": [
    "##### 15° ser_exit - 6 digitos\n",
    "Hora del servicio del servicio por un agente.\n"
   ]
  },
  {
   "cell_type": "code",
   "execution_count": 7,
   "metadata": {},
   "outputs": [
    {
     "data": {
      "text/plain": [
       "'9:59:59'"
      ]
     },
     "execution_count": 7,
     "metadata": {},
     "output_type": "execute_result"
    }
   ],
   "source": [
    "df[\"ser_exit\"].max()"
   ]
  },
  {
   "cell_type": "code",
   "execution_count": 10,
   "metadata": {},
   "outputs": [],
   "source": [
    "x = df[\"ser_exit\"]"
   ]
  },
  {
   "cell_type": "markdown",
   "metadata": {},
   "source": [
    "#### 16° ser_time - 1 to 3 digitos\n",
    "Duración del servicio en segundos (calculada como ser_time = ser_exit – ser_start)\n"
   ]
  },
  {
   "cell_type": "code",
   "execution_count": 68,
   "metadata": {},
   "outputs": [
    {
     "data": {
      "text/plain": [
       "61437"
      ]
     },
     "execution_count": 68,
     "metadata": {},
     "output_type": "execute_result"
    }
   ],
   "source": [
    "df[\"ser_time\"].max()"
   ]
  },
  {
   "cell_type": "code",
   "execution_count": 79,
   "metadata": {},
   "outputs": [
    {
     "data": {
      "text/plain": [
       "(444448, 18)"
      ]
     },
     "execution_count": 79,
     "metadata": {},
     "output_type": "execute_result"
    }
   ],
   "source": [
    "df_ser_time = df.sort_values(\"ser_time\", ascending=False)\n",
    "df_ser_time.shape"
   ]
  },
  {
   "cell_type": "markdown",
   "metadata": {},
   "source": [
    "##### 17° Server - text\n",
    "Nombre del cliente que atendió la llamada. Este campo es NO_SERVER, si el servicio no fue provisto.\n"
   ]
  },
  {
   "cell_type": "code",
   "execution_count": 13,
   "metadata": {},
   "outputs": [
    {
     "data": {
      "text/plain": [
       "array(['NO_SERVER', 'MICHAL', 'BASCH', 'KAZAV', 'VICKY', 'YITZ', 'SHARON',\n",
       "       'MORIAH', 'ZOHARI', 'AVNI', 'PINHAS', 'GILI', 'TALI', 'YIFAT',\n",
       "       'LORI', 'TOVA', 'ELI', 'MIKI', 'NAAMA', 'ANAT', 'IDIT', 'DORIT',\n",
       "       'SHLOMO', 'BENSION', 'GELBER', 'AVIDAN', 'DARMON', 'EXPRESS',\n",
       "       'DAVID', 'STEREN', 'ROTH', 'AVI', 'NO_SERVERAMA', 'ANO_SERVERT',\n",
       "       'MEIR', 'Z1GOLDIE', 'Z2LIOR', 'Z2OFER', 'Z2IFAT', 'Z2EYAL',\n",
       "       'Z2ARIE', 'Z2NIRIT', 'Z2ELINOR', 'Z2OFERZ', 'GOLDIE', 'ZIPI',\n",
       "       'Z1SPIEGEL', 'Z2SPIEGEL', 'Z2ASAF', 'BRUHI', 'MOTI', 'Z2ASSAF',\n",
       "       'MOSHE'], dtype=object)"
      ]
     },
     "execution_count": 13,
     "metadata": {},
     "output_type": "execute_result"
    }
   ],
   "source": [
    "df[\"server\"].unique()"
   ]
  },
  {
   "cell_type": "markdown",
   "metadata": {},
   "source": [
    "# EDA EDA"
   ]
  },
  {
   "cell_type": "code",
   "execution_count": 54,
   "metadata": {},
   "outputs": [
    {
     "data": {
      "text/html": [
       "<div>\n",
       "<style scoped>\n",
       "    .dataframe tbody tr th:only-of-type {\n",
       "        vertical-align: middle;\n",
       "    }\n",
       "\n",
       "    .dataframe tbody tr th {\n",
       "        vertical-align: top;\n",
       "    }\n",
       "\n",
       "    .dataframe thead th {\n",
       "        text-align: right;\n",
       "    }\n",
       "</style>\n",
       "<table border=\"1\" class=\"dataframe\">\n",
       "  <thead>\n",
       "    <tr style=\"text-align: right;\">\n",
       "      <th></th>\n",
       "      <th>date</th>\n",
       "      <th>number_of_calls</th>\n",
       "    </tr>\n",
       "  </thead>\n",
       "  <tbody>\n",
       "    <tr>\n",
       "      <th>3</th>\n",
       "      <td>Sunday</td>\n",
       "      <td>86911</td>\n",
       "    </tr>\n",
       "    <tr>\n",
       "      <th>5</th>\n",
       "      <td>Tuesday</td>\n",
       "      <td>81193</td>\n",
       "    </tr>\n",
       "    <tr>\n",
       "      <th>4</th>\n",
       "      <td>Thursday</td>\n",
       "      <td>79727</td>\n",
       "    </tr>\n",
       "    <tr>\n",
       "      <th>1</th>\n",
       "      <td>Monday</td>\n",
       "      <td>79497</td>\n",
       "    </tr>\n",
       "    <tr>\n",
       "      <th>6</th>\n",
       "      <td>Wednesday</td>\n",
       "      <td>77836</td>\n",
       "    </tr>\n",
       "    <tr>\n",
       "      <th>0</th>\n",
       "      <td>Friday</td>\n",
       "      <td>28548</td>\n",
       "    </tr>\n",
       "    <tr>\n",
       "      <th>2</th>\n",
       "      <td>Saturday</td>\n",
       "      <td>10736</td>\n",
       "    </tr>\n",
       "  </tbody>\n",
       "</table>\n",
       "</div>"
      ],
      "text/plain": [
       "        date  number_of_calls\n",
       "3     Sunday            86911\n",
       "5    Tuesday            81193\n",
       "4   Thursday            79727\n",
       "1     Monday            79497\n",
       "6  Wednesday            77836\n",
       "0     Friday            28548\n",
       "2   Saturday            10736"
      ]
     },
     "execution_count": 54,
     "metadata": {},
     "output_type": "execute_result"
    }
   ],
   "source": [
    "calls_per_day = df_clean.groupby([df_clean['date'].dt.day_name()]).size().reset_index(name='number_of_calls').sort_values('number_of_calls')\n",
    "calls_per_day.sort_values(\"number_of_calls\", ascending=False)"
   ]
  },
  {
   "cell_type": "code",
   "execution_count": 109,
   "metadata": {},
   "outputs": [
    {
     "data": {
      "text/html": [
       "<div>\n",
       "<style scoped>\n",
       "    .dataframe tbody tr th:only-of-type {\n",
       "        vertical-align: middle;\n",
       "    }\n",
       "\n",
       "    .dataframe tbody tr th {\n",
       "        vertical-align: top;\n",
       "    }\n",
       "\n",
       "    .dataframe thead th {\n",
       "        text-align: right;\n",
       "    }\n",
       "</style>\n",
       "<table border=\"1\" class=\"dataframe\">\n",
       "  <thead>\n",
       "    <tr style=\"text-align: right;\">\n",
       "      <th></th>\n",
       "      <th>ID</th>\n",
       "      <th>vru.line</th>\n",
       "      <th>call_id</th>\n",
       "      <th>priority</th>\n",
       "      <th>type</th>\n",
       "      <th>date</th>\n",
       "      <th>vru_time</th>\n",
       "      <th>q_time</th>\n",
       "      <th>outcome</th>\n",
       "      <th>ser_start</th>\n",
       "      <th>ser_exit</th>\n",
       "      <th>ser_time</th>\n",
       "      <th>server</th>\n",
       "    </tr>\n",
       "  </thead>\n",
       "  <tbody>\n",
       "    <tr>\n",
       "      <th>444447</th>\n",
       "      <td>17215AA0216</td>\n",
       "      <td>AA0216</td>\n",
       "      <td>17215</td>\n",
       "      <td>0</td>\n",
       "      <td>IN</td>\n",
       "      <td>1999-12-31</td>\n",
       "      <td>10</td>\n",
       "      <td>0</td>\n",
       "      <td>HANG</td>\n",
       "      <td>0:00:00</td>\n",
       "      <td>0:00:00</td>\n",
       "      <td>0</td>\n",
       "      <td>NO_SERVER</td>\n",
       "    </tr>\n",
       "    <tr>\n",
       "      <th>444134</th>\n",
       "      <td>16976AA0113</td>\n",
       "      <td>AA0113</td>\n",
       "      <td>16976</td>\n",
       "      <td>0</td>\n",
       "      <td>NW</td>\n",
       "      <td>1999-12-31</td>\n",
       "      <td>14</td>\n",
       "      <td>0</td>\n",
       "      <td>AGENT</td>\n",
       "      <td>13:44:30</td>\n",
       "      <td>13:47:11</td>\n",
       "      <td>161</td>\n",
       "      <td>ZOHARI</td>\n",
       "    </tr>\n",
       "    <tr>\n",
       "      <th>444122</th>\n",
       "      <td>16964AA0113</td>\n",
       "      <td>AA0113</td>\n",
       "      <td>16964</td>\n",
       "      <td>0</td>\n",
       "      <td>PS</td>\n",
       "      <td>1999-12-31</td>\n",
       "      <td>9</td>\n",
       "      <td>0</td>\n",
       "      <td>AGENT</td>\n",
       "      <td>8:24:11</td>\n",
       "      <td>8:25:29</td>\n",
       "      <td>78</td>\n",
       "      <td>NO_SERVER</td>\n",
       "    </tr>\n",
       "    <tr>\n",
       "      <th>444123</th>\n",
       "      <td>16965AA0113</td>\n",
       "      <td>AA0113</td>\n",
       "      <td>16965</td>\n",
       "      <td>0</td>\n",
       "      <td>PS</td>\n",
       "      <td>1999-12-31</td>\n",
       "      <td>15</td>\n",
       "      <td>0</td>\n",
       "      <td>AGENT</td>\n",
       "      <td>8:49:57</td>\n",
       "      <td>8:50:48</td>\n",
       "      <td>51</td>\n",
       "      <td>DORIT</td>\n",
       "    </tr>\n",
       "    <tr>\n",
       "      <th>444124</th>\n",
       "      <td>16966AA0113</td>\n",
       "      <td>AA0113</td>\n",
       "      <td>16966</td>\n",
       "      <td>0</td>\n",
       "      <td>PS</td>\n",
       "      <td>1999-12-31</td>\n",
       "      <td>10</td>\n",
       "      <td>0</td>\n",
       "      <td>AGENT</td>\n",
       "      <td>9:17:38</td>\n",
       "      <td>9:18:33</td>\n",
       "      <td>55</td>\n",
       "      <td>YITZ</td>\n",
       "    </tr>\n",
       "    <tr>\n",
       "      <th>...</th>\n",
       "      <td>...</td>\n",
       "      <td>...</td>\n",
       "      <td>...</td>\n",
       "      <td>...</td>\n",
       "      <td>...</td>\n",
       "      <td>...</td>\n",
       "      <td>...</td>\n",
       "      <td>...</td>\n",
       "      <td>...</td>\n",
       "      <td>...</td>\n",
       "      <td>...</td>\n",
       "      <td>...</td>\n",
       "      <td>...</td>\n",
       "    </tr>\n",
       "    <tr>\n",
       "      <th>400</th>\n",
       "      <td>33511AA0205</td>\n",
       "      <td>AA0205</td>\n",
       "      <td>33511</td>\n",
       "      <td>0</td>\n",
       "      <td>PS</td>\n",
       "      <td>1999-01-01</td>\n",
       "      <td>11</td>\n",
       "      <td>0</td>\n",
       "      <td>AGENT</td>\n",
       "      <td>7:53:43</td>\n",
       "      <td>7:56:26</td>\n",
       "      <td>163</td>\n",
       "      <td>YITZ</td>\n",
       "    </tr>\n",
       "    <tr>\n",
       "      <th>399</th>\n",
       "      <td>33510AA0205</td>\n",
       "      <td>AA0205</td>\n",
       "      <td>33510</td>\n",
       "      <td>0</td>\n",
       "      <td>NE</td>\n",
       "      <td>1999-01-01</td>\n",
       "      <td>14</td>\n",
       "      <td>0</td>\n",
       "      <td>AGENT</td>\n",
       "      <td>7:31:23</td>\n",
       "      <td>7:33:12</td>\n",
       "      <td>109</td>\n",
       "      <td>ZOHARI</td>\n",
       "    </tr>\n",
       "    <tr>\n",
       "      <th>398</th>\n",
       "      <td>33509AA0205</td>\n",
       "      <td>AA0205</td>\n",
       "      <td>33509</td>\n",
       "      <td>0</td>\n",
       "      <td>NW</td>\n",
       "      <td>1999-01-01</td>\n",
       "      <td>23</td>\n",
       "      <td>0</td>\n",
       "      <td>HANG</td>\n",
       "      <td>0:00:00</td>\n",
       "      <td>0:00:00</td>\n",
       "      <td>0</td>\n",
       "      <td>NO_SERVER</td>\n",
       "    </tr>\n",
       "    <tr>\n",
       "      <th>397</th>\n",
       "      <td>32054AA0204</td>\n",
       "      <td>AA0204</td>\n",
       "      <td>32054</td>\n",
       "      <td>0</td>\n",
       "      <td>NW</td>\n",
       "      <td>1999-01-01</td>\n",
       "      <td>59</td>\n",
       "      <td>0</td>\n",
       "      <td>HANG</td>\n",
       "      <td>0:00:00</td>\n",
       "      <td>0:00:00</td>\n",
       "      <td>0</td>\n",
       "      <td>NO_SERVER</td>\n",
       "    </tr>\n",
       "    <tr>\n",
       "      <th>0</th>\n",
       "      <td>33116AA0101</td>\n",
       "      <td>AA0101</td>\n",
       "      <td>33116</td>\n",
       "      <td>2</td>\n",
       "      <td>PS</td>\n",
       "      <td>1999-01-01</td>\n",
       "      <td>5</td>\n",
       "      <td>153</td>\n",
       "      <td>HANG</td>\n",
       "      <td>0:00:00</td>\n",
       "      <td>0:00:00</td>\n",
       "      <td>0</td>\n",
       "      <td>NO_SERVER</td>\n",
       "    </tr>\n",
       "  </tbody>\n",
       "</table>\n",
       "<p>444448 rows × 13 columns</p>\n",
       "</div>"
      ],
      "text/plain": [
       "                 ID vru.line  call_id  priority type        date  vru_time  \\\n",
       "444447  17215AA0216   AA0216    17215         0   IN  1999-12-31        10   \n",
       "444134  16976AA0113   AA0113    16976         0   NW  1999-12-31        14   \n",
       "444122  16964AA0113   AA0113    16964         0   PS  1999-12-31         9   \n",
       "444123  16965AA0113   AA0113    16965         0   PS  1999-12-31        15   \n",
       "444124  16966AA0113   AA0113    16966         0   PS  1999-12-31        10   \n",
       "...             ...      ...      ...       ...  ...         ...       ...   \n",
       "400     33511AA0205   AA0205    33511         0   PS  1999-01-01        11   \n",
       "399     33510AA0205   AA0205    33510         0   NE  1999-01-01        14   \n",
       "398     33509AA0205   AA0205    33509         0   NW  1999-01-01        23   \n",
       "397     32054AA0204   AA0204    32054         0   NW  1999-01-01        59   \n",
       "0       33116AA0101   AA0101    33116         2   PS  1999-01-01         5   \n",
       "\n",
       "        q_time outcome ser_start  ser_exit  ser_time     server  \n",
       "444447       0    HANG   0:00:00   0:00:00         0  NO_SERVER  \n",
       "444134       0   AGENT  13:44:30  13:47:11       161     ZOHARI  \n",
       "444122       0   AGENT   8:24:11   8:25:29        78  NO_SERVER  \n",
       "444123       0   AGENT   8:49:57   8:50:48        51      DORIT  \n",
       "444124       0   AGENT   9:17:38   9:18:33        55       YITZ  \n",
       "...        ...     ...       ...       ...       ...        ...  \n",
       "400          0   AGENT   7:53:43   7:56:26       163       YITZ  \n",
       "399          0   AGENT   7:31:23   7:33:12       109     ZOHARI  \n",
       "398          0    HANG   0:00:00   0:00:00         0  NO_SERVER  \n",
       "397          0    HANG   0:00:00   0:00:00         0  NO_SERVER  \n",
       "0          153    HANG   0:00:00   0:00:00         0  NO_SERVER  \n",
       "\n",
       "[444448 rows x 13 columns]"
      ]
     },
     "execution_count": 109,
     "metadata": {},
     "output_type": "execute_result"
    }
   ],
   "source": [
    "df_clean.sort_values(\"date\", ascending =False)"
   ]
  },
  {
   "cell_type": "code",
   "execution_count": 15,
   "metadata": {},
   "outputs": [
    {
     "data": {
      "text/plain": [
       "87860"
      ]
     },
     "execution_count": 15,
     "metadata": {},
     "output_type": "execute_result"
    }
   ],
   "source": [
    "df[df[\"ser_time\"] == 0][\"ser_time\"].count()"
   ]
  },
  {
   "cell_type": "code",
   "execution_count": null,
   "metadata": {},
   "outputs": [
    {
     "data": {
      "text/plain": [
       "0           0\n",
       "1           0\n",
       "2          54\n",
       "3         208\n",
       "4         107\n",
       "         ... \n",
       "444443    553\n",
       "444444      0\n",
       "444445      0\n",
       "444446      0\n",
       "444447      0\n",
       "Name: ser_time, Length: 444448, dtype: int64"
      ]
     },
     "execution_count": 6,
     "metadata": {},
     "output_type": "execute_result"
    }
   ],
   "source": [
    "df[\"startdate\"].unique()"
   ]
  },
  {
   "cell_type": "code",
   "execution_count": 214,
   "metadata": {},
   "outputs": [],
   "source": [
    "def count_duplicates(df, column_name):\n",
    "    duplicate_count = df[column_name].duplicated().sum()\n",
    "    return duplicate_count"
   ]
  },
  {
   "cell_type": "code",
   "execution_count": 215,
   "metadata": {},
   "outputs": [
    {
     "data": {
      "text/plain": [
       "389977"
      ]
     },
     "execution_count": 215,
     "metadata": {},
     "output_type": "execute_result"
    }
   ],
   "source": [
    "duplicate_count = count_duplicates(df, 'call_id')\n",
    "duplicate_count"
   ]
  },
  {
   "cell_type": "code",
   "execution_count": 270,
   "metadata": {},
   "outputs": [],
   "source": [
    "# creating a new df to save tha columns that i will use\n",
    "df_clean= df[[\"customer_id\", 'vru.line', \"call_id\", \"priority\", \"type\", \"date\", \"vru_time\", \"q_time\", \"outcome\",\"ser_start\", \"ser_exit\", \"ser_time\", \"server\"]].copy()"
   ]
  },
  {
   "cell_type": "code",
   "execution_count": 318,
   "metadata": {},
   "outputs": [],
   "source": [
    "# There are some scientific numbers in the customer_id column so this line will replace them for the 404 number\n",
    "df_clean[\"customer_id\"] = df_clean[\"customer_id\"].apply(lambda x: int(x) if x.isdigit() else 404)"
   ]
  },
  {
   "cell_type": "code",
   "execution_count": 374,
   "metadata": {},
   "outputs": [],
   "source": [
    "# to make the average time chart of each type of service\n",
    "df_types_t= df_clean[[\"type\", \"vru_time\", \"q_time\", \"ser_time\"]].copy()\n",
    "df_types_t_avg  = df_types_t.groupby('type', as_index=False).mean().round(2)"
   ]
  },
  {
   "cell_type": "code",
   "execution_count": 375,
   "metadata": {},
   "outputs": [
    {
     "data": {
      "text/html": [
       "<div>\n",
       "<style scoped>\n",
       "    .dataframe tbody tr th:only-of-type {\n",
       "        vertical-align: middle;\n",
       "    }\n",
       "\n",
       "    .dataframe tbody tr th {\n",
       "        vertical-align: top;\n",
       "    }\n",
       "\n",
       "    .dataframe thead th {\n",
       "        text-align: right;\n",
       "    }\n",
       "</style>\n",
       "<table border=\"1\" class=\"dataframe\">\n",
       "  <thead>\n",
       "    <tr style=\"text-align: right;\">\n",
       "      <th></th>\n",
       "      <th>type</th>\n",
       "      <th>vru_time</th>\n",
       "      <th>q_time</th>\n",
       "      <th>ser_time</th>\n",
       "    </tr>\n",
       "  </thead>\n",
       "  <tbody>\n",
       "    <tr>\n",
       "      <th>0</th>\n",
       "      <td>TT</td>\n",
       "      <td>8.00</td>\n",
       "      <td>0.00</td>\n",
       "      <td>0.00</td>\n",
       "    </tr>\n",
       "    <tr>\n",
       "      <th>1</th>\n",
       "      <td>AA</td>\n",
       "      <td>24.80</td>\n",
       "      <td>0.00</td>\n",
       "      <td>0.00</td>\n",
       "    </tr>\n",
       "    <tr>\n",
       "      <th>2</th>\n",
       "      <td>IN</td>\n",
       "      <td>13.96</td>\n",
       "      <td>82.08</td>\n",
       "      <td>295.38</td>\n",
       "    </tr>\n",
       "    <tr>\n",
       "      <th>3</th>\n",
       "      <td>NE</td>\n",
       "      <td>8.38</td>\n",
       "      <td>73.35</td>\n",
       "      <td>244.33</td>\n",
       "    </tr>\n",
       "    <tr>\n",
       "      <th>4</th>\n",
       "      <td>NW</td>\n",
       "      <td>11.87</td>\n",
       "      <td>76.61</td>\n",
       "      <td>70.02</td>\n",
       "    </tr>\n",
       "    <tr>\n",
       "      <th>5</th>\n",
       "      <td>PE</td>\n",
       "      <td>7.85</td>\n",
       "      <td>92.17</td>\n",
       "      <td>177.81</td>\n",
       "    </tr>\n",
       "    <tr>\n",
       "      <th>6</th>\n",
       "      <td>PS</td>\n",
       "      <td>10.24</td>\n",
       "      <td>53.00</td>\n",
       "      <td>151.17</td>\n",
       "    </tr>\n",
       "    <tr>\n",
       "      <th>7</th>\n",
       "      <td>TT</td>\n",
       "      <td>3.00</td>\n",
       "      <td>19.98</td>\n",
       "      <td>103.36</td>\n",
       "    </tr>\n",
       "  </tbody>\n",
       "</table>\n",
       "</div>"
      ],
      "text/plain": [
       "  type  vru_time  q_time  ser_time\n",
       "0   TT      8.00    0.00      0.00\n",
       "1   AA     24.80    0.00      0.00\n",
       "2   IN     13.96   82.08    295.38\n",
       "3   NE      8.38   73.35    244.33\n",
       "4   NW     11.87   76.61     70.02\n",
       "5   PE      7.85   92.17    177.81\n",
       "6   PS     10.24   53.00    151.17\n",
       "7   TT      3.00   19.98    103.36"
      ]
     },
     "execution_count": 375,
     "metadata": {},
     "output_type": "execute_result"
    }
   ],
   "source": [
    "df_types_t_avg"
   ]
  },
  {
   "cell_type": "code",
   "execution_count": 279,
   "metadata": {},
   "outputs": [
    {
     "data": {
      "text/plain": [
       "52.46"
      ]
     },
     "execution_count": 279,
     "metadata": {},
     "output_type": "execute_result"
    }
   ],
   "source": [
    "# To calculate the service level\n",
    "nivel_servicio = round(((df[df[\"ser_time\"] <= 90][\"ser_time\"].count())/df.shape[0])*100, 2)\n",
    "nivel_servicio"
   ]
  },
  {
   "cell_type": "code",
   "execution_count": 273,
   "metadata": {},
   "outputs": [],
   "source": [
    "# Extract hours using regex\n",
    "df_clean['ser_start_hours'] = df_clean['ser_start'].str.extract(r'^(\\d+):')\n",
    "\n",
    "# Convert extracted hours to integers\n",
    "df_clean['ser_start_hours'] = df_clean['ser_start_hours'].astype(int)"
   ]
  },
  {
   "cell_type": "code",
   "execution_count": 202,
   "metadata": {},
   "outputs": [
    {
     "data": {
      "text/plain": [
       "31823"
      ]
     },
     "execution_count": 202,
     "metadata": {},
     "output_type": "execute_result"
    }
   ],
   "source": [
    "df_clean[df_clean[\"ser_start_hours\"]== 10][\"date\"].count()"
   ]
  },
  {
   "cell_type": "code",
   "execution_count": 129,
   "metadata": {},
   "outputs": [
    {
     "data": {
      "text/plain": [
       "array([ 0,  6,  7,  8,  9, 10, 11, 12, 13, 19, 20, 21, 22, 23, 18, 14, 15,\n",
       "       16, 17,  4,  5,  3,  1,  2])"
      ]
     },
     "execution_count": 129,
     "metadata": {},
     "output_type": "execute_result"
    }
   ],
   "source": [
    "df[\"ser_start_hours\"].unique()"
   ]
  },
  {
   "cell_type": "code",
   "execution_count": 274,
   "metadata": {},
   "outputs": [],
   "source": [
    "# since there is 8 hours shifts (asumption) i will create a column that adds 1, 2, 3 for 1 to 7 shift, 8 to 15 shift and 16 to 23 shift\n",
    "# and 0 for 0 values since in this time frame there is no call attended. this will make easy to filter the dataframe\n",
    "\n",
    "def map_hour_band(hour):\n",
    "    if hour == 0:\n",
    "        return 0\n",
    "    elif 1 <= hour <= 7:\n",
    "        return 1\n",
    "    elif 8 <= hour <= 15:\n",
    "        return 2\n",
    "    elif 16 <= hour <= 23:\n",
    "        return 3\n",
    "\n",
    "# Apply the function to create the 'hour_band' column\n",
    "df_clean['hour_band'] = df_clean['ser_start_hours'].apply(map_hour_band)"
   ]
  },
  {
   "cell_type": "code",
   "execution_count": 224,
   "metadata": {},
   "outputs": [
    {
     "data": {
      "text/plain": [
       "2    214976\n",
       "3    131072\n",
       "0     87264\n",
       "1     11136\n",
       "Name: hour_band, dtype: int64"
      ]
     },
     "execution_count": 224,
     "metadata": {},
     "output_type": "execute_result"
    }
   ],
   "source": [
    "value_counts_band = df_clean['hour_band'].value_counts()\n",
    "value_counts_band"
   ]
  },
  {
   "cell_type": "code",
   "execution_count": 222,
   "metadata": {},
   "outputs": [
    {
     "data": {
      "text/plain": [
       "0     87264\n",
       "10    31823\n",
       "11    29072\n",
       "9     28886\n",
       "12    27023\n",
       "13    26369\n",
       "14    25553\n",
       "16    23473\n",
       "15    23237\n",
       "8     23013\n",
       "17    19276\n",
       "18    17264\n",
       "19    15912\n",
       "21    15209\n",
       "20    14742\n",
       "22    14177\n",
       "23    11019\n",
       "7     10748\n",
       "6       341\n",
       "5        19\n",
       "1        11\n",
       "4         9\n",
       "2         6\n",
       "3         2\n",
       "Name: ser_start_hours, dtype: int64"
      ]
     },
     "execution_count": 222,
     "metadata": {},
     "output_type": "execute_result"
    }
   ],
   "source": [
    "value_counts_hours = df_clean['ser_start_hours'].value_counts()\n",
    "value_counts_hours"
   ]
  },
  {
   "cell_type": "code",
   "execution_count": 245,
   "metadata": {},
   "outputs": [],
   "source": [
    "df_clean = df_clean.drop(columns='ID')"
   ]
  },
  {
   "cell_type": "code",
   "execution_count": 249,
   "metadata": {},
   "outputs": [],
   "source": [
    "df_clean = df_clean.sort_values(by= 'ser_time')"
   ]
  },
  {
   "cell_type": "code",
   "execution_count": 254,
   "metadata": {},
   "outputs": [],
   "source": [
    "value_counts_type = df_clean['type'].value_counts().reset_index()\n",
    "value_counts_type.columns = ['type', 'count']"
   ]
  },
  {
   "cell_type": "code",
   "execution_count": 257,
   "metadata": {},
   "outputs": [],
   "source": [
    "value_counts_hours = df_clean['ser_start_hours'].value_counts().reset_index()\n",
    "value_counts_hours.columns = ['ser_start_hours', 'count']"
   ]
  },
  {
   "cell_type": "code",
   "execution_count": 258,
   "metadata": {},
   "outputs": [
    {
     "data": {
      "text/html": [
       "<div>\n",
       "<style scoped>\n",
       "    .dataframe tbody tr th:only-of-type {\n",
       "        vertical-align: middle;\n",
       "    }\n",
       "\n",
       "    .dataframe tbody tr th {\n",
       "        vertical-align: top;\n",
       "    }\n",
       "\n",
       "    .dataframe thead th {\n",
       "        text-align: right;\n",
       "    }\n",
       "</style>\n",
       "<table border=\"1\" class=\"dataframe\">\n",
       "  <thead>\n",
       "    <tr style=\"text-align: right;\">\n",
       "      <th></th>\n",
       "      <th>ser_start_hours</th>\n",
       "      <th>count</th>\n",
       "    </tr>\n",
       "  </thead>\n",
       "  <tbody>\n",
       "    <tr>\n",
       "      <th>0</th>\n",
       "      <td>0</td>\n",
       "      <td>87264</td>\n",
       "    </tr>\n",
       "    <tr>\n",
       "      <th>1</th>\n",
       "      <td>10</td>\n",
       "      <td>31823</td>\n",
       "    </tr>\n",
       "    <tr>\n",
       "      <th>2</th>\n",
       "      <td>11</td>\n",
       "      <td>29072</td>\n",
       "    </tr>\n",
       "    <tr>\n",
       "      <th>3</th>\n",
       "      <td>9</td>\n",
       "      <td>28886</td>\n",
       "    </tr>\n",
       "    <tr>\n",
       "      <th>4</th>\n",
       "      <td>12</td>\n",
       "      <td>27023</td>\n",
       "    </tr>\n",
       "    <tr>\n",
       "      <th>5</th>\n",
       "      <td>13</td>\n",
       "      <td>26369</td>\n",
       "    </tr>\n",
       "    <tr>\n",
       "      <th>6</th>\n",
       "      <td>14</td>\n",
       "      <td>25553</td>\n",
       "    </tr>\n",
       "    <tr>\n",
       "      <th>7</th>\n",
       "      <td>16</td>\n",
       "      <td>23473</td>\n",
       "    </tr>\n",
       "    <tr>\n",
       "      <th>8</th>\n",
       "      <td>15</td>\n",
       "      <td>23237</td>\n",
       "    </tr>\n",
       "    <tr>\n",
       "      <th>9</th>\n",
       "      <td>8</td>\n",
       "      <td>23013</td>\n",
       "    </tr>\n",
       "    <tr>\n",
       "      <th>10</th>\n",
       "      <td>17</td>\n",
       "      <td>19276</td>\n",
       "    </tr>\n",
       "    <tr>\n",
       "      <th>11</th>\n",
       "      <td>18</td>\n",
       "      <td>17264</td>\n",
       "    </tr>\n",
       "    <tr>\n",
       "      <th>12</th>\n",
       "      <td>19</td>\n",
       "      <td>15912</td>\n",
       "    </tr>\n",
       "    <tr>\n",
       "      <th>13</th>\n",
       "      <td>21</td>\n",
       "      <td>15209</td>\n",
       "    </tr>\n",
       "    <tr>\n",
       "      <th>14</th>\n",
       "      <td>20</td>\n",
       "      <td>14742</td>\n",
       "    </tr>\n",
       "    <tr>\n",
       "      <th>15</th>\n",
       "      <td>22</td>\n",
       "      <td>14177</td>\n",
       "    </tr>\n",
       "    <tr>\n",
       "      <th>16</th>\n",
       "      <td>23</td>\n",
       "      <td>11019</td>\n",
       "    </tr>\n",
       "    <tr>\n",
       "      <th>17</th>\n",
       "      <td>7</td>\n",
       "      <td>10748</td>\n",
       "    </tr>\n",
       "    <tr>\n",
       "      <th>18</th>\n",
       "      <td>6</td>\n",
       "      <td>341</td>\n",
       "    </tr>\n",
       "    <tr>\n",
       "      <th>19</th>\n",
       "      <td>5</td>\n",
       "      <td>19</td>\n",
       "    </tr>\n",
       "    <tr>\n",
       "      <th>20</th>\n",
       "      <td>1</td>\n",
       "      <td>11</td>\n",
       "    </tr>\n",
       "    <tr>\n",
       "      <th>21</th>\n",
       "      <td>4</td>\n",
       "      <td>9</td>\n",
       "    </tr>\n",
       "    <tr>\n",
       "      <th>22</th>\n",
       "      <td>2</td>\n",
       "      <td>6</td>\n",
       "    </tr>\n",
       "    <tr>\n",
       "      <th>23</th>\n",
       "      <td>3</td>\n",
       "      <td>2</td>\n",
       "    </tr>\n",
       "  </tbody>\n",
       "</table>\n",
       "</div>"
      ],
      "text/plain": [
       "    ser_start_hours  count\n",
       "0                 0  87264\n",
       "1                10  31823\n",
       "2                11  29072\n",
       "3                 9  28886\n",
       "4                12  27023\n",
       "5                13  26369\n",
       "6                14  25553\n",
       "7                16  23473\n",
       "8                15  23237\n",
       "9                 8  23013\n",
       "10               17  19276\n",
       "11               18  17264\n",
       "12               19  15912\n",
       "13               21  15209\n",
       "14               20  14742\n",
       "15               22  14177\n",
       "16               23  11019\n",
       "17                7  10748\n",
       "18                6    341\n",
       "19                5     19\n",
       "20                1     11\n",
       "21                4      9\n",
       "22                2      6\n",
       "23                3      2"
      ]
     },
     "execution_count": 258,
     "metadata": {},
     "output_type": "execute_result"
    }
   ],
   "source": [
    "value_counts_hours"
   ]
  },
  {
   "cell_type": "code",
   "execution_count": 220,
   "metadata": {},
   "outputs": [
    {
     "data": {
      "text/html": [
       "<div>\n",
       "<style scoped>\n",
       "    .dataframe tbody tr th:only-of-type {\n",
       "        vertical-align: middle;\n",
       "    }\n",
       "\n",
       "    .dataframe tbody tr th {\n",
       "        vertical-align: top;\n",
       "    }\n",
       "\n",
       "    .dataframe thead th {\n",
       "        text-align: right;\n",
       "    }\n",
       "</style>\n",
       "<table border=\"1\" class=\"dataframe\">\n",
       "  <thead>\n",
       "    <tr style=\"text-align: right;\">\n",
       "      <th></th>\n",
       "      <th>vru.line</th>\n",
       "      <th>call_id</th>\n",
       "      <th>customer_id</th>\n",
       "      <th>priority</th>\n",
       "      <th>type</th>\n",
       "      <th>date</th>\n",
       "      <th>vru_entry</th>\n",
       "      <th>vru_exit</th>\n",
       "      <th>vru_time</th>\n",
       "      <th>q_start</th>\n",
       "      <th>...</th>\n",
       "      <th>q_time</th>\n",
       "      <th>outcome</th>\n",
       "      <th>ser_start</th>\n",
       "      <th>ser_exit</th>\n",
       "      <th>ser_time</th>\n",
       "      <th>server</th>\n",
       "      <th>startdate</th>\n",
       "      <th>ID</th>\n",
       "      <th>ser_start_hours</th>\n",
       "      <th>has_number_after_colon</th>\n",
       "    </tr>\n",
       "  </thead>\n",
       "  <tbody>\n",
       "    <tr>\n",
       "      <th>0</th>\n",
       "      <td>AA0101</td>\n",
       "      <td>33116</td>\n",
       "      <td>9664491</td>\n",
       "      <td>2</td>\n",
       "      <td>PS</td>\n",
       "      <td>1999-01-01</td>\n",
       "      <td>0:00:31</td>\n",
       "      <td>0:00:36</td>\n",
       "      <td>5</td>\n",
       "      <td>0:00:36</td>\n",
       "      <td>...</td>\n",
       "      <td>153</td>\n",
       "      <td>HANG</td>\n",
       "      <td>0:00:00</td>\n",
       "      <td>0:00:00</td>\n",
       "      <td>0</td>\n",
       "      <td>NO_SERVER</td>\n",
       "      <td>0</td>\n",
       "      <td>33116AA0101</td>\n",
       "      <td>0</td>\n",
       "      <td>True</td>\n",
       "    </tr>\n",
       "    <tr>\n",
       "      <th>267727</th>\n",
       "      <td>AA0214</td>\n",
       "      <td>24644</td>\n",
       "      <td>0</td>\n",
       "      <td>0</td>\n",
       "      <td>PS</td>\n",
       "      <td>1999-08-09</td>\n",
       "      <td>20:39:39</td>\n",
       "      <td>20:41:17</td>\n",
       "      <td>98</td>\n",
       "      <td>00:00:00</td>\n",
       "      <td>...</td>\n",
       "      <td>0</td>\n",
       "      <td>HANG</td>\n",
       "      <td>00:00:00</td>\n",
       "      <td>00:00:00</td>\n",
       "      <td>0</td>\n",
       "      <td>NO_SERVER</td>\n",
       "      <td>212</td>\n",
       "      <td>24644AA0214</td>\n",
       "      <td>0</td>\n",
       "      <td>False</td>\n",
       "    </tr>\n",
       "    <tr>\n",
       "      <th>267726</th>\n",
       "      <td>AA0214</td>\n",
       "      <td>24643</td>\n",
       "      <td>0</td>\n",
       "      <td>0</td>\n",
       "      <td>PS</td>\n",
       "      <td>1999-08-09</td>\n",
       "      <td>20:37:18</td>\n",
       "      <td>20:38:56</td>\n",
       "      <td>98</td>\n",
       "      <td>00:00:00</td>\n",
       "      <td>...</td>\n",
       "      <td>0</td>\n",
       "      <td>HANG</td>\n",
       "      <td>00:00:00</td>\n",
       "      <td>00:00:00</td>\n",
       "      <td>0</td>\n",
       "      <td>NO_SERVER</td>\n",
       "      <td>212</td>\n",
       "      <td>24643AA0214</td>\n",
       "      <td>0</td>\n",
       "      <td>False</td>\n",
       "    </tr>\n",
       "    <tr>\n",
       "      <th>267725</th>\n",
       "      <td>AA0214</td>\n",
       "      <td>24642</td>\n",
       "      <td>0</td>\n",
       "      <td>0</td>\n",
       "      <td>PS</td>\n",
       "      <td>1999-08-09</td>\n",
       "      <td>20:34:56</td>\n",
       "      <td>20:36:35</td>\n",
       "      <td>99</td>\n",
       "      <td>00:00:00</td>\n",
       "      <td>...</td>\n",
       "      <td>0</td>\n",
       "      <td>HANG</td>\n",
       "      <td>00:00:00</td>\n",
       "      <td>00:00:00</td>\n",
       "      <td>0</td>\n",
       "      <td>NO_SERVER</td>\n",
       "      <td>212</td>\n",
       "      <td>24642AA0214</td>\n",
       "      <td>0</td>\n",
       "      <td>False</td>\n",
       "    </tr>\n",
       "    <tr>\n",
       "      <th>267724</th>\n",
       "      <td>AA0214</td>\n",
       "      <td>24641</td>\n",
       "      <td>0</td>\n",
       "      <td>0</td>\n",
       "      <td>PS</td>\n",
       "      <td>1999-08-09</td>\n",
       "      <td>20:32:34</td>\n",
       "      <td>20:34:13</td>\n",
       "      <td>99</td>\n",
       "      <td>00:00:00</td>\n",
       "      <td>...</td>\n",
       "      <td>0</td>\n",
       "      <td>HANG</td>\n",
       "      <td>00:00:00</td>\n",
       "      <td>00:00:00</td>\n",
       "      <td>0</td>\n",
       "      <td>NO_SERVER</td>\n",
       "      <td>212</td>\n",
       "      <td>24641AA0214</td>\n",
       "      <td>0</td>\n",
       "      <td>False</td>\n",
       "    </tr>\n",
       "    <tr>\n",
       "      <th>...</th>\n",
       "      <td>...</td>\n",
       "      <td>...</td>\n",
       "      <td>...</td>\n",
       "      <td>...</td>\n",
       "      <td>...</td>\n",
       "      <td>...</td>\n",
       "      <td>...</td>\n",
       "      <td>...</td>\n",
       "      <td>...</td>\n",
       "      <td>...</td>\n",
       "      <td>...</td>\n",
       "      <td>...</td>\n",
       "      <td>...</td>\n",
       "      <td>...</td>\n",
       "      <td>...</td>\n",
       "      <td>...</td>\n",
       "      <td>...</td>\n",
       "      <td>...</td>\n",
       "      <td>...</td>\n",
       "      <td>...</td>\n",
       "      <td>...</td>\n",
       "    </tr>\n",
       "    <tr>\n",
       "      <th>137891</th>\n",
       "      <td>AA0215</td>\n",
       "      <td>18137</td>\n",
       "      <td>26058826</td>\n",
       "      <td>2</td>\n",
       "      <td>PS</td>\n",
       "      <td>1999-05-02</td>\n",
       "      <td>15:34:20</td>\n",
       "      <td>15:34:26</td>\n",
       "      <td>6</td>\n",
       "      <td>15:34:26</td>\n",
       "      <td>...</td>\n",
       "      <td>73</td>\n",
       "      <td>HANG</td>\n",
       "      <td>0:00:00</td>\n",
       "      <td>0:00:00</td>\n",
       "      <td>0</td>\n",
       "      <td>NO_SERVER</td>\n",
       "      <td>120</td>\n",
       "      <td>18137AA0215</td>\n",
       "      <td>0</td>\n",
       "      <td>True</td>\n",
       "    </tr>\n",
       "    <tr>\n",
       "      <th>137877</th>\n",
       "      <td>AA0215</td>\n",
       "      <td>18123</td>\n",
       "      <td>0</td>\n",
       "      <td>0</td>\n",
       "      <td>NW</td>\n",
       "      <td>1999-05-02</td>\n",
       "      <td>13:33:27</td>\n",
       "      <td>13:33:37</td>\n",
       "      <td>10</td>\n",
       "      <td>13:33:37</td>\n",
       "      <td>...</td>\n",
       "      <td>0</td>\n",
       "      <td>HANG</td>\n",
       "      <td>0:00:00</td>\n",
       "      <td>0:00:00</td>\n",
       "      <td>0</td>\n",
       "      <td>NO_SERVER</td>\n",
       "      <td>120</td>\n",
       "      <td>18123AA0215</td>\n",
       "      <td>0</td>\n",
       "      <td>True</td>\n",
       "    </tr>\n",
       "    <tr>\n",
       "      <th>137875</th>\n",
       "      <td>AA0215</td>\n",
       "      <td>18121</td>\n",
       "      <td>0</td>\n",
       "      <td>0</td>\n",
       "      <td>PS</td>\n",
       "      <td>1999-05-02</td>\n",
       "      <td>13:15:36</td>\n",
       "      <td>13:15:36</td>\n",
       "      <td>0</td>\n",
       "      <td>0:00:00</td>\n",
       "      <td>...</td>\n",
       "      <td>0</td>\n",
       "      <td>HANG</td>\n",
       "      <td>0:00:00</td>\n",
       "      <td>0:00:00</td>\n",
       "      <td>0</td>\n",
       "      <td>NO_SERVER</td>\n",
       "      <td>120</td>\n",
       "      <td>18121AA0215</td>\n",
       "      <td>0</td>\n",
       "      <td>True</td>\n",
       "    </tr>\n",
       "    <tr>\n",
       "      <th>137916</th>\n",
       "      <td>AA0215</td>\n",
       "      <td>18162</td>\n",
       "      <td>0</td>\n",
       "      <td>0</td>\n",
       "      <td>NW</td>\n",
       "      <td>1999-05-02</td>\n",
       "      <td>19:12:20</td>\n",
       "      <td>19:12:30</td>\n",
       "      <td>10</td>\n",
       "      <td>19:12:30</td>\n",
       "      <td>...</td>\n",
       "      <td>183</td>\n",
       "      <td>HANG</td>\n",
       "      <td>0:00:00</td>\n",
       "      <td>0:00:00</td>\n",
       "      <td>0</td>\n",
       "      <td>NO_SERVER</td>\n",
       "      <td>120</td>\n",
       "      <td>18162AA0215</td>\n",
       "      <td>0</td>\n",
       "      <td>True</td>\n",
       "    </tr>\n",
       "    <tr>\n",
       "      <th>444447</th>\n",
       "      <td>AA0216</td>\n",
       "      <td>17215</td>\n",
       "      <td>0</td>\n",
       "      <td>0</td>\n",
       "      <td>IN</td>\n",
       "      <td>1999-12-31</td>\n",
       "      <td>22:23:35</td>\n",
       "      <td>22:23:45</td>\n",
       "      <td>10</td>\n",
       "      <td>0:00:00</td>\n",
       "      <td>...</td>\n",
       "      <td>0</td>\n",
       "      <td>HANG</td>\n",
       "      <td>0:00:00</td>\n",
       "      <td>0:00:00</td>\n",
       "      <td>0</td>\n",
       "      <td>NO_SERVER</td>\n",
       "      <td>334</td>\n",
       "      <td>17215AA0216</td>\n",
       "      <td>0</td>\n",
       "      <td>True</td>\n",
       "    </tr>\n",
       "  </tbody>\n",
       "</table>\n",
       "<p>87264 rows × 21 columns</p>\n",
       "</div>"
      ],
      "text/plain": [
       "       vru.line  call_id customer_id  priority type       date vru_entry  \\\n",
       "0        AA0101    33116     9664491         2   PS 1999-01-01   0:00:31   \n",
       "267727   AA0214    24644           0         0   PS 1999-08-09  20:39:39   \n",
       "267726   AA0214    24643           0         0   PS 1999-08-09  20:37:18   \n",
       "267725   AA0214    24642           0         0   PS 1999-08-09  20:34:56   \n",
       "267724   AA0214    24641           0         0   PS 1999-08-09  20:32:34   \n",
       "...         ...      ...         ...       ...  ...        ...       ...   \n",
       "137891   AA0215    18137    26058826         2   PS 1999-05-02  15:34:20   \n",
       "137877   AA0215    18123           0         0   NW 1999-05-02  13:33:27   \n",
       "137875   AA0215    18121           0         0   PS 1999-05-02  13:15:36   \n",
       "137916   AA0215    18162           0         0   NW 1999-05-02  19:12:20   \n",
       "444447   AA0216    17215           0         0   IN 1999-12-31  22:23:35   \n",
       "\n",
       "        vru_exit  vru_time   q_start  ... q_time  outcome ser_start  ser_exit  \\\n",
       "0        0:00:36         5   0:00:36  ...    153     HANG   0:00:00   0:00:00   \n",
       "267727  20:41:17        98  00:00:00  ...      0     HANG  00:00:00  00:00:00   \n",
       "267726  20:38:56        98  00:00:00  ...      0     HANG  00:00:00  00:00:00   \n",
       "267725  20:36:35        99  00:00:00  ...      0     HANG  00:00:00  00:00:00   \n",
       "267724  20:34:13        99  00:00:00  ...      0     HANG  00:00:00  00:00:00   \n",
       "...          ...       ...       ...  ...    ...      ...       ...       ...   \n",
       "137891  15:34:26         6  15:34:26  ...     73     HANG   0:00:00   0:00:00   \n",
       "137877  13:33:37        10  13:33:37  ...      0     HANG   0:00:00   0:00:00   \n",
       "137875  13:15:36         0   0:00:00  ...      0     HANG   0:00:00   0:00:00   \n",
       "137916  19:12:30        10  19:12:30  ...    183     HANG   0:00:00   0:00:00   \n",
       "444447  22:23:45        10   0:00:00  ...      0     HANG   0:00:00   0:00:00   \n",
       "\n",
       "       ser_time     server startdate           ID ser_start_hours  \\\n",
       "0             0  NO_SERVER         0  33116AA0101               0   \n",
       "267727        0  NO_SERVER       212  24644AA0214               0   \n",
       "267726        0  NO_SERVER       212  24643AA0214               0   \n",
       "267725        0  NO_SERVER       212  24642AA0214               0   \n",
       "267724        0  NO_SERVER       212  24641AA0214               0   \n",
       "...         ...        ...       ...          ...             ...   \n",
       "137891        0  NO_SERVER       120  18137AA0215               0   \n",
       "137877        0  NO_SERVER       120  18123AA0215               0   \n",
       "137875        0  NO_SERVER       120  18121AA0215               0   \n",
       "137916        0  NO_SERVER       120  18162AA0215               0   \n",
       "444447        0  NO_SERVER       334  17215AA0216               0   \n",
       "\n",
       "        has_number_after_colon  \n",
       "0                         True  \n",
       "267727                   False  \n",
       "267726                   False  \n",
       "267725                   False  \n",
       "267724                   False  \n",
       "...                        ...  \n",
       "137891                    True  \n",
       "137877                    True  \n",
       "137875                    True  \n",
       "137916                    True  \n",
       "444447                    True  \n",
       "\n",
       "[87264 rows x 21 columns]"
      ]
     },
     "execution_count": 220,
     "metadata": {},
     "output_type": "execute_result"
    }
   ],
   "source": [
    "df[df[\"ser_start_hours\"] == 0].sort_values(\"ser_start_hours\")"
   ]
  },
  {
   "cell_type": "code",
   "execution_count": 241,
   "metadata": {},
   "outputs": [],
   "source": [
    "df_without_zero_hours = df_clean[df_clean[\"hour_band\"] != 0]"
   ]
  },
  {
   "cell_type": "code",
   "execution_count": 243,
   "metadata": {},
   "outputs": [
    {
     "data": {
      "text/html": [
       "<div>\n",
       "<style scoped>\n",
       "    .dataframe tbody tr th:only-of-type {\n",
       "        vertical-align: middle;\n",
       "    }\n",
       "\n",
       "    .dataframe tbody tr th {\n",
       "        vertical-align: top;\n",
       "    }\n",
       "\n",
       "    .dataframe thead th {\n",
       "        text-align: right;\n",
       "    }\n",
       "</style>\n",
       "<table border=\"1\" class=\"dataframe\">\n",
       "  <thead>\n",
       "    <tr style=\"text-align: right;\">\n",
       "      <th></th>\n",
       "      <th>index</th>\n",
       "      <th>ser_start_hours</th>\n",
       "    </tr>\n",
       "  </thead>\n",
       "  <tbody>\n",
       "    <tr>\n",
       "      <th>0</th>\n",
       "      <td>10</td>\n",
       "      <td>31823</td>\n",
       "    </tr>\n",
       "    <tr>\n",
       "      <th>1</th>\n",
       "      <td>11</td>\n",
       "      <td>29072</td>\n",
       "    </tr>\n",
       "    <tr>\n",
       "      <th>2</th>\n",
       "      <td>9</td>\n",
       "      <td>28886</td>\n",
       "    </tr>\n",
       "    <tr>\n",
       "      <th>3</th>\n",
       "      <td>12</td>\n",
       "      <td>27023</td>\n",
       "    </tr>\n",
       "    <tr>\n",
       "      <th>4</th>\n",
       "      <td>13</td>\n",
       "      <td>26369</td>\n",
       "    </tr>\n",
       "    <tr>\n",
       "      <th>5</th>\n",
       "      <td>14</td>\n",
       "      <td>25553</td>\n",
       "    </tr>\n",
       "    <tr>\n",
       "      <th>6</th>\n",
       "      <td>16</td>\n",
       "      <td>23473</td>\n",
       "    </tr>\n",
       "    <tr>\n",
       "      <th>7</th>\n",
       "      <td>15</td>\n",
       "      <td>23237</td>\n",
       "    </tr>\n",
       "    <tr>\n",
       "      <th>8</th>\n",
       "      <td>8</td>\n",
       "      <td>23013</td>\n",
       "    </tr>\n",
       "    <tr>\n",
       "      <th>9</th>\n",
       "      <td>17</td>\n",
       "      <td>19276</td>\n",
       "    </tr>\n",
       "    <tr>\n",
       "      <th>10</th>\n",
       "      <td>18</td>\n",
       "      <td>17264</td>\n",
       "    </tr>\n",
       "    <tr>\n",
       "      <th>11</th>\n",
       "      <td>19</td>\n",
       "      <td>15912</td>\n",
       "    </tr>\n",
       "    <tr>\n",
       "      <th>12</th>\n",
       "      <td>21</td>\n",
       "      <td>15209</td>\n",
       "    </tr>\n",
       "    <tr>\n",
       "      <th>13</th>\n",
       "      <td>20</td>\n",
       "      <td>14742</td>\n",
       "    </tr>\n",
       "    <tr>\n",
       "      <th>14</th>\n",
       "      <td>22</td>\n",
       "      <td>14177</td>\n",
       "    </tr>\n",
       "    <tr>\n",
       "      <th>15</th>\n",
       "      <td>23</td>\n",
       "      <td>11019</td>\n",
       "    </tr>\n",
       "    <tr>\n",
       "      <th>16</th>\n",
       "      <td>7</td>\n",
       "      <td>10748</td>\n",
       "    </tr>\n",
       "    <tr>\n",
       "      <th>17</th>\n",
       "      <td>6</td>\n",
       "      <td>341</td>\n",
       "    </tr>\n",
       "    <tr>\n",
       "      <th>18</th>\n",
       "      <td>5</td>\n",
       "      <td>19</td>\n",
       "    </tr>\n",
       "    <tr>\n",
       "      <th>19</th>\n",
       "      <td>1</td>\n",
       "      <td>11</td>\n",
       "    </tr>\n",
       "    <tr>\n",
       "      <th>20</th>\n",
       "      <td>4</td>\n",
       "      <td>9</td>\n",
       "    </tr>\n",
       "    <tr>\n",
       "      <th>21</th>\n",
       "      <td>2</td>\n",
       "      <td>6</td>\n",
       "    </tr>\n",
       "    <tr>\n",
       "      <th>22</th>\n",
       "      <td>3</td>\n",
       "      <td>2</td>\n",
       "    </tr>\n",
       "  </tbody>\n",
       "</table>\n",
       "</div>"
      ],
      "text/plain": [
       "    index  ser_start_hours\n",
       "0      10            31823\n",
       "1      11            29072\n",
       "2       9            28886\n",
       "3      12            27023\n",
       "4      13            26369\n",
       "5      14            25553\n",
       "6      16            23473\n",
       "7      15            23237\n",
       "8       8            23013\n",
       "9      17            19276\n",
       "10     18            17264\n",
       "11     19            15912\n",
       "12     21            15209\n",
       "13     20            14742\n",
       "14     22            14177\n",
       "15     23            11019\n",
       "16      7            10748\n",
       "17      6              341\n",
       "18      5               19\n",
       "19      1               11\n",
       "20      4                9\n",
       "21      2                6\n",
       "22      3                2"
      ]
     },
     "execution_count": 243,
     "metadata": {},
     "output_type": "execute_result"
    }
   ],
   "source": [
    "value_counts_band =df_without_zero_hours[\"ser_start_hours\"].value_counts().reset_index()\n",
    "value_counts_band"
   ]
  },
  {
   "cell_type": "code",
   "execution_count": 264,
   "metadata": {},
   "outputs": [],
   "source": [
    "df_without_zero_clients = df[df[\"customer_id\"] != '0']"
   ]
  },
  {
   "cell_type": "code",
   "execution_count": 266,
   "metadata": {},
   "outputs": [],
   "source": [
    "value_count_client = df_without_zero_clients['customer_id'].value_counts().reset_index()\n"
   ]
  },
  {
   "cell_type": "code",
   "execution_count": 268,
   "metadata": {},
   "outputs": [
    {
     "data": {
      "text/html": [
       "<div>\n",
       "<style scoped>\n",
       "    .dataframe tbody tr th:only-of-type {\n",
       "        vertical-align: middle;\n",
       "    }\n",
       "\n",
       "    .dataframe tbody tr th {\n",
       "        vertical-align: top;\n",
       "    }\n",
       "\n",
       "    .dataframe thead th {\n",
       "        text-align: right;\n",
       "    }\n",
       "</style>\n",
       "<table border=\"1\" class=\"dataframe\">\n",
       "  <thead>\n",
       "    <tr style=\"text-align: right;\">\n",
       "      <th></th>\n",
       "      <th>index</th>\n",
       "      <th>customer_id</th>\n",
       "    </tr>\n",
       "  </thead>\n",
       "  <tbody>\n",
       "    <tr>\n",
       "      <th>0</th>\n",
       "      <td>58859752</td>\n",
       "      <td>1996</td>\n",
       "    </tr>\n",
       "    <tr>\n",
       "      <th>1</th>\n",
       "      <td>58704610</td>\n",
       "      <td>1731</td>\n",
       "    </tr>\n",
       "    <tr>\n",
       "      <th>2</th>\n",
       "      <td>7191646</td>\n",
       "      <td>1502</td>\n",
       "    </tr>\n",
       "    <tr>\n",
       "      <th>3</th>\n",
       "      <td>54128681</td>\n",
       "      <td>1483</td>\n",
       "    </tr>\n",
       "    <tr>\n",
       "      <th>4</th>\n",
       "      <td>52867744</td>\n",
       "      <td>1474</td>\n",
       "    </tr>\n",
       "    <tr>\n",
       "      <th>5</th>\n",
       "      <td>58029430</td>\n",
       "      <td>1352</td>\n",
       "    </tr>\n",
       "    <tr>\n",
       "      <th>6</th>\n",
       "      <td>74780917</td>\n",
       "      <td>1255</td>\n",
       "    </tr>\n",
       "    <tr>\n",
       "      <th>7</th>\n",
       "      <td>55279970</td>\n",
       "      <td>1166</td>\n",
       "    </tr>\n",
       "    <tr>\n",
       "      <th>8</th>\n",
       "      <td>57918849</td>\n",
       "      <td>1119</td>\n",
       "    </tr>\n",
       "    <tr>\n",
       "      <th>9</th>\n",
       "      <td>1574243</td>\n",
       "      <td>1111</td>\n",
       "    </tr>\n",
       "    <tr>\n",
       "      <th>10</th>\n",
       "      <td>78191137</td>\n",
       "      <td>1025</td>\n",
       "    </tr>\n",
       "    <tr>\n",
       "      <th>11</th>\n",
       "      <td>69687275</td>\n",
       "      <td>1007</td>\n",
       "    </tr>\n",
       "    <tr>\n",
       "      <th>12</th>\n",
       "      <td>14264295</td>\n",
       "      <td>972</td>\n",
       "    </tr>\n",
       "    <tr>\n",
       "      <th>13</th>\n",
       "      <td>63193346</td>\n",
       "      <td>916</td>\n",
       "    </tr>\n",
       "    <tr>\n",
       "      <th>14</th>\n",
       "      <td>65032120</td>\n",
       "      <td>898</td>\n",
       "    </tr>\n",
       "  </tbody>\n",
       "</table>\n",
       "</div>"
      ],
      "text/plain": [
       "       index  customer_id\n",
       "0   58859752         1996\n",
       "1   58704610         1731\n",
       "2    7191646         1502\n",
       "3   54128681         1483\n",
       "4   52867744         1474\n",
       "5   58029430         1352\n",
       "6   74780917         1255\n",
       "7   55279970         1166\n",
       "8   57918849         1119\n",
       "9    1574243         1111\n",
       "10  78191137         1025\n",
       "11  69687275         1007\n",
       "12  14264295          972\n",
       "13  63193346          916\n",
       "14  65032120          898"
      ]
     },
     "execution_count": 268,
     "metadata": {},
     "output_type": "execute_result"
    }
   ],
   "source": [
    "value_count_client.head(15)"
   ]
  },
  {
   "cell_type": "code",
   "execution_count": null,
   "metadata": {},
   "outputs": [],
   "source": [
    "# saving the whole clean df into  csv to use it in the streamlit app\n",
    "df_clean.to_csv(\"call_2.csv\")"
   ]
  }
 ],
 "metadata": {
  "kernelspec": {
   "display_name": "base",
   "language": "python",
   "name": "python3"
  },
  "language_info": {
   "codemirror_mode": {
    "name": "ipython",
    "version": 3
   },
   "file_extension": ".py",
   "mimetype": "text/x-python",
   "name": "python",
   "nbconvert_exporter": "python",
   "pygments_lexer": "ipython3",
   "version": "3.8.5"
  },
  "orig_nbformat": 4
 },
 "nbformat": 4,
 "nbformat_minor": 2
}
